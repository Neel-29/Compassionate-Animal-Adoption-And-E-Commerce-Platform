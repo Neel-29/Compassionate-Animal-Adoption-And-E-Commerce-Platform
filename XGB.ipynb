{
  "nbformat": 4,
  "nbformat_minor": 0,
  "metadata": {
    "colab": {
      "provenance": [],
      "authorship_tag": "ABX9TyNPYcFswKVZhjFlwgDXEPcH",
      "include_colab_link": true
    },
    "kernelspec": {
      "name": "python3",
      "display_name": "Python 3"
    },
    "language_info": {
      "name": "python"
    }
  },
  "cells": [
    {
      "cell_type": "markdown",
      "metadata": {
        "id": "view-in-github",
        "colab_type": "text"
      },
      "source": [
        "<a href=\"https://colab.research.google.com/github/Neel-29/Compassionate-Animal-Adoption-And-E-Commerce-Platform/blob/main/XGB.ipynb\" target=\"_parent\"><img src=\"https://colab.research.google.com/assets/colab-badge.svg\" alt=\"Open In Colab\"/></a>"
      ]
    },
    {
      "cell_type": "code",
      "execution_count": null,
      "metadata": {
        "id": "9guk3xZresdp"
      },
      "outputs": [],
      "source": [
        "import pandas as pd\n",
        "import numpy as np\n",
        "import matplotlib.pyplot as plt\n",
        "import yfinance as yf\n",
        "from sklearn.model_selection import train_test_split\n",
        "from sklearn.preprocessing import StandardScaler\n",
        "from xgboost import XGBRegressor\n",
        "from sklearn.metrics import mean_squared_error\n",
        "\n",
        "# Fetch historical stock prices for AAPL from Yahoo Finance\n",
        "data = yf.download('AAPL', start='2004-01-01', end='2024-01-01')\n",
        "\n",
        "# Ensure 'Date' column is in datetime format\n",
        "data['Date'] = pd.to_datetime(data.index)\n",
        "\n",
        "# Fill missing values in 'Close' column with the previous day's value\n",
        "data['Close'] = data['Close'].ffill()\n",
        "\n",
        "# Feature Engineering\n",
        "data['SMA_50'] = data['Close'].rolling(window=50).mean()  # 50-day Simple Moving Average\n",
        "data['SMA_200'] = data['Close'].rolling(window=200).mean()  # 200-day Simple Moving Average\n",
        "data['EMA_26'] = data['Close'].ewm(span=26, min_periods=0, adjust=False).mean()  # 26-day Exponential Moving Average\n",
        "data['EMA_12'] = data['Close'].ewm(span=12, min_periods=0, adjust=False).mean()  # 12-day Exponential Moving Average\n",
        "data['MACD'] = data['EMA_12'] - data['EMA_26']  # Moving Average Convergence Divergence\n",
        "\n",
        "# Drop rows with NaN values after feature engineering\n",
        "data.dropna(inplace=True)\n",
        "\n",
        "# Define features and target variable\n",
        "features = ['SMA_50', 'SMA_200', 'EMA_12', 'EMA_26', 'MACD']\n",
        "target = 'Close'"
      ]
    }
  ]
}